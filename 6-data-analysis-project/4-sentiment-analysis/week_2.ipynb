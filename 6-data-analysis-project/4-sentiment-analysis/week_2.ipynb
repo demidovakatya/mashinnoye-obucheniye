{
 "cells": [
  {
   "cell_type": "markdown",
   "metadata": {},
   "source": [
    "# Programming Assignment: Настройка параметров\n",
    "\n",
    "В этом задании вам предстоит поэкспериментировать с параметрами вашей модели для сентимент-анализа. Все задания выполняются на том же датасете, что и на прошлой неделе.\n",
    "\n",
    "## Инструкции\n",
    "\n",
    "1\\. Здесь и далее оценка качества будет выполняться с помощью `cross_val_score` с `cv=5` и остальными параметрами по умолчанию. Оцените среднее качество ( `.mean()` ) и стандартное отклонение ( `.std()` ) по `fold`'ам для: а) `pipeline` из `CountVectorizer()` и `LogisticRegression()`, б) `pipeline` из `TfVectorizer()` и `LogisticRegression()`. В соответствующем пункте задания выпишите через пробел среднее в п. а, отклонение в п. а, среднее в п.б и отклонение в п. б"
   ]
  },
  {
   "cell_type": "code",
   "execution_count": null,
   "metadata": {
    "collapsed": true
   },
   "outputs": [],
   "source": []
  },
  {
   "cell_type": "markdown",
   "metadata": {},
   "source": [
    "2\\. Попробуйте позадавать параметр `min_df` у `CountVectorizer`. Оцените качество вашего классикатора с `min_df=10` и с `min_df=50`."
   ]
  },
  {
   "cell_type": "code",
   "execution_count": null,
   "metadata": {
    "collapsed": true
   },
   "outputs": [],
   "source": []
  },
  {
   "cell_type": "markdown",
   "metadata": {},
   "source": [
    "3\\. Поперебирайте классификатор, используемый после `CountVectorizer`. И `vectorizer` и классификатор берите с параметрами по умолчанию. Сравните результаты для `LogisticRegression`, `LinearSVC` и `SGDClassifier`. Выпишите в ответе на соответствующий вопрос самое худшее качество из получившихся."
   ]
  },
  {
   "cell_type": "code",
   "execution_count": null,
   "metadata": {
    "collapsed": true
   },
   "outputs": [],
   "source": []
  },
  {
   "cell_type": "markdown",
   "metadata": {},
   "source": [
    "4\\. Подготовьте список стоп-слов с помощью `nltk.corpus.stopwords.words('english')`, посмотрите на его элементы, и передайте его в соответствующий параметр `CountVectorizer`. В `sklearn` также предусмотрен свой список английских стоп-слов - для этого нужно задать соответствующий параметр равным строке `'english'`. Оцените качество классификатора в одном и другом случае и выпишете сначала качество в первом варианте, затем во втором в соответствующем вопросе."
   ]
  },
  {
   "cell_type": "code",
   "execution_count": null,
   "metadata": {
    "collapsed": true
   },
   "outputs": [],
   "source": []
  },
  {
   "cell_type": "markdown",
   "metadata": {},
   "source": [
    "5\\. Попробуйте в `CountVectorizer` добавить к словам биграммы и измерить качество модели. А затем постройте модель на частотах буквенных n-грамм c `n` от 1 до 5, указав соответствующее значение параметра `ngram_range` и параметр `analyzer='char'`. Полученные два числа запишите через пробел в ответе на соответствующий вопрос."
   ]
  },
  {
   "cell_type": "code",
   "execution_count": null,
   "metadata": {
    "collapsed": true
   },
   "outputs": [],
   "source": []
  }
 ],
 "metadata": {
  "anaconda-cloud": {},
  "kernelspec": {
   "display_name": "Python [default]",
   "language": "python",
   "name": "python3"
  },
  "language_info": {
   "codemirror_mode": {
    "name": "ipython",
    "version": 3
   },
   "file_extension": ".py",
   "mimetype": "text/x-python",
   "name": "python",
   "nbconvert_exporter": "python",
   "pygments_lexer": "ipython3",
   "version": "3.5.2"
  }
 },
 "nbformat": 4,
 "nbformat_minor": 1
}
